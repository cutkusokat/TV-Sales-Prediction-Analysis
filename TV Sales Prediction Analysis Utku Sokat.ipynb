{
 "cells": [
  {
   "cell_type": "code",
   "execution_count": 132,
   "id": "c2714c79",
   "metadata": {},
   "outputs": [],
   "source": [
    "#Importing Libraries.\n",
    "import numpy as np \n",
    "import pandas as pd \n",
    "import matplotlib.pyplot as plt \n",
    "import seaborn as sns \n",
    "import plotly as py\n",
    "import plotly.graph_objs as go\n",
    "from sklearn.cluster import KMeans\n",
    "import warnings\n",
    "import os\n",
    "warnings.filterwarnings(\"ignore\")\n",
    "from sklearn.model_selection import train_test_split\n",
    "from statsmodels.tsa.arima.model import ARIMA\n",
    "from sklearn.metrics import mean_squared_error\n",
    "from math import sqrt\n",
    "from sklearn.metrics import mean_absolute_error\n",
    "from sklearn.metrics import mean_absolute_percentage_error"
   ]
  },
  {
   "cell_type": "code",
   "execution_count": 2,
   "id": "6ee7c56a",
   "metadata": {},
   "outputs": [
    {
     "data": {
      "text/html": [
       "<div>\n",
       "<style scoped>\n",
       "    .dataframe tbody tr th:only-of-type {\n",
       "        vertical-align: middle;\n",
       "    }\n",
       "\n",
       "    .dataframe tbody tr th {\n",
       "        vertical-align: top;\n",
       "    }\n",
       "\n",
       "    .dataframe thead th {\n",
       "        text-align: right;\n",
       "    }\n",
       "</style>\n",
       "<table border=\"1\" class=\"dataframe\">\n",
       "  <thead>\n",
       "    <tr style=\"text-align: right;\">\n",
       "      <th></th>\n",
       "      <th>Date</th>\n",
       "      <th>Model</th>\n",
       "      <th>Count</th>\n",
       "    </tr>\n",
       "  </thead>\n",
       "  <tbody>\n",
       "    <tr>\n",
       "      <th>0</th>\n",
       "      <td>31-Aug-16</td>\n",
       "      <td>M45</td>\n",
       "      <td>5</td>\n",
       "    </tr>\n",
       "    <tr>\n",
       "      <th>1</th>\n",
       "      <td>31-Aug-16</td>\n",
       "      <td>M121</td>\n",
       "      <td>3</td>\n",
       "    </tr>\n",
       "    <tr>\n",
       "      <th>2</th>\n",
       "      <td>31-Aug-16</td>\n",
       "      <td>M122</td>\n",
       "      <td>4</td>\n",
       "    </tr>\n",
       "    <tr>\n",
       "      <th>3</th>\n",
       "      <td>31-Aug-16</td>\n",
       "      <td>M91</td>\n",
       "      <td>10</td>\n",
       "    </tr>\n",
       "    <tr>\n",
       "      <th>4</th>\n",
       "      <td>31-Aug-16</td>\n",
       "      <td>M66</td>\n",
       "      <td>57</td>\n",
       "    </tr>\n",
       "    <tr>\n",
       "      <th>...</th>\n",
       "      <td>...</td>\n",
       "      <td>...</td>\n",
       "      <td>...</td>\n",
       "    </tr>\n",
       "    <tr>\n",
       "      <th>46111</th>\n",
       "      <td>01-Jan-14</td>\n",
       "      <td>M74</td>\n",
       "      <td>1</td>\n",
       "    </tr>\n",
       "    <tr>\n",
       "      <th>46112</th>\n",
       "      <td>01-Jan-14</td>\n",
       "      <td>M59</td>\n",
       "      <td>1</td>\n",
       "    </tr>\n",
       "    <tr>\n",
       "      <th>46113</th>\n",
       "      <td>01-Jan-14</td>\n",
       "      <td>M60</td>\n",
       "      <td>5</td>\n",
       "    </tr>\n",
       "    <tr>\n",
       "      <th>46114</th>\n",
       "      <td>01-Jan-14</td>\n",
       "      <td>M54</td>\n",
       "      <td>1</td>\n",
       "    </tr>\n",
       "    <tr>\n",
       "      <th>46115</th>\n",
       "      <td>01-Jan-14</td>\n",
       "      <td>M58</td>\n",
       "      <td>1</td>\n",
       "    </tr>\n",
       "  </tbody>\n",
       "</table>\n",
       "<p>46116 rows × 3 columns</p>\n",
       "</div>"
      ],
      "text/plain": [
       "            Date Model  Count\n",
       "0      31-Aug-16   M45      5\n",
       "1      31-Aug-16  M121      3\n",
       "2      31-Aug-16  M122      4\n",
       "3      31-Aug-16   M91     10\n",
       "4      31-Aug-16   M66     57\n",
       "...          ...   ...    ...\n",
       "46111  01-Jan-14   M74      1\n",
       "46112  01-Jan-14   M59      1\n",
       "46113  01-Jan-14   M60      5\n",
       "46114  01-Jan-14   M54      1\n",
       "46115  01-Jan-14   M58      1\n",
       "\n",
       "[46116 rows x 3 columns]"
      ]
     },
     "execution_count": 2,
     "metadata": {},
     "output_type": "execute_result"
    }
   ],
   "source": [
    "#read data\n",
    "data = pd.read_csv(\"date-model-sale.csv\")\n",
    "data"
   ]
  },
  {
   "cell_type": "code",
   "execution_count": 3,
   "id": "94eb1ddf",
   "metadata": {},
   "outputs": [
    {
     "data": {
      "text/html": [
       "<div>\n",
       "<style scoped>\n",
       "    .dataframe tbody tr th:only-of-type {\n",
       "        vertical-align: middle;\n",
       "    }\n",
       "\n",
       "    .dataframe tbody tr th {\n",
       "        vertical-align: top;\n",
       "    }\n",
       "\n",
       "    .dataframe thead th {\n",
       "        text-align: right;\n",
       "    }\n",
       "</style>\n",
       "<table border=\"1\" class=\"dataframe\">\n",
       "  <thead>\n",
       "    <tr style=\"text-align: right;\">\n",
       "      <th></th>\n",
       "      <th>Date</th>\n",
       "      <th>Model</th>\n",
       "      <th>Count</th>\n",
       "    </tr>\n",
       "  </thead>\n",
       "  <tbody>\n",
       "    <tr>\n",
       "      <th>0</th>\n",
       "      <td>31-Aug-16</td>\n",
       "      <td>M45</td>\n",
       "      <td>5</td>\n",
       "    </tr>\n",
       "    <tr>\n",
       "      <th>1</th>\n",
       "      <td>31-Aug-16</td>\n",
       "      <td>M121</td>\n",
       "      <td>3</td>\n",
       "    </tr>\n",
       "    <tr>\n",
       "      <th>2</th>\n",
       "      <td>31-Aug-16</td>\n",
       "      <td>M122</td>\n",
       "      <td>4</td>\n",
       "    </tr>\n",
       "    <tr>\n",
       "      <th>3</th>\n",
       "      <td>31-Aug-16</td>\n",
       "      <td>M91</td>\n",
       "      <td>10</td>\n",
       "    </tr>\n",
       "    <tr>\n",
       "      <th>4</th>\n",
       "      <td>31-Aug-16</td>\n",
       "      <td>M66</td>\n",
       "      <td>57</td>\n",
       "    </tr>\n",
       "  </tbody>\n",
       "</table>\n",
       "</div>"
      ],
      "text/plain": [
       "        Date Model  Count\n",
       "0  31-Aug-16   M45      5\n",
       "1  31-Aug-16  M121      3\n",
       "2  31-Aug-16  M122      4\n",
       "3  31-Aug-16   M91     10\n",
       "4  31-Aug-16   M66     57"
      ]
     },
     "execution_count": 3,
     "metadata": {},
     "output_type": "execute_result"
    }
   ],
   "source": [
    "#take a look at the data\n",
    "data.head()"
   ]
  },
  {
   "cell_type": "code",
   "execution_count": 4,
   "id": "8633883e",
   "metadata": {},
   "outputs": [
    {
     "name": "stdout",
     "output_type": "stream",
     "text": [
      "<class 'pandas.core.frame.DataFrame'>\n",
      "RangeIndex: 46116 entries, 0 to 46115\n",
      "Data columns (total 3 columns):\n",
      " #   Column  Non-Null Count  Dtype \n",
      "---  ------  --------------  ----- \n",
      " 0   Date    46116 non-null  object\n",
      " 1   Model   46116 non-null  object\n",
      " 2   Count   46116 non-null  int64 \n",
      "dtypes: int64(1), object(2)\n",
      "memory usage: 1.1+ MB\n"
     ]
    }
   ],
   "source": [
    "# get more information about the data\n",
    "data.info()"
   ]
  },
  {
   "cell_type": "code",
   "execution_count": 5,
   "id": "3771d878",
   "metadata": {},
   "outputs": [
    {
     "data": {
      "text/plain": [
       "pandas.core.series.Series"
      ]
     },
     "execution_count": 5,
     "metadata": {},
     "output_type": "execute_result"
    }
   ],
   "source": [
    "# as we can observe from above informations, the date column can be converted into date type\n",
    "data['Date']=pd.to_datetime(data['Date'])\n",
    "\n",
    "type(data[\"Date\"])\n"
   ]
  },
  {
   "cell_type": "code",
   "execution_count": 6,
   "id": "d6c1e41d",
   "metadata": {},
   "outputs": [
    {
     "data": {
      "text/html": [
       "<div>\n",
       "<style scoped>\n",
       "    .dataframe tbody tr th:only-of-type {\n",
       "        vertical-align: middle;\n",
       "    }\n",
       "\n",
       "    .dataframe tbody tr th {\n",
       "        vertical-align: top;\n",
       "    }\n",
       "\n",
       "    .dataframe thead th {\n",
       "        text-align: right;\n",
       "    }\n",
       "</style>\n",
       "<table border=\"1\" class=\"dataframe\">\n",
       "  <thead>\n",
       "    <tr style=\"text-align: right;\">\n",
       "      <th></th>\n",
       "      <th>Total</th>\n",
       "      <th>Percent</th>\n",
       "    </tr>\n",
       "  </thead>\n",
       "  <tbody>\n",
       "    <tr>\n",
       "      <th>Date</th>\n",
       "      <td>0</td>\n",
       "      <td>0.0</td>\n",
       "    </tr>\n",
       "    <tr>\n",
       "      <th>Model</th>\n",
       "      <td>0</td>\n",
       "      <td>0.0</td>\n",
       "    </tr>\n",
       "    <tr>\n",
       "      <th>Count</th>\n",
       "      <td>0</td>\n",
       "      <td>0.0</td>\n",
       "    </tr>\n",
       "  </tbody>\n",
       "</table>\n",
       "</div>"
      ],
      "text/plain": [
       "       Total  Percent\n",
       "Date       0      0.0\n",
       "Model      0      0.0\n",
       "Count      0      0.0"
      ]
     },
     "execution_count": 6,
     "metadata": {},
     "output_type": "execute_result"
    }
   ],
   "source": [
    "# check whether there is any missing value in the dataset\n",
    "observe_mis_values = data.isnull()\n",
    "\n",
    "total_missing = data.isnull().sum()\n",
    "\n",
    "total_values = data.count().sum()\n",
    "\n",
    "percent = (data.isnull().sum()/data.count())*100\n",
    "\n",
    "missing_data = pd.concat([total_missing,percent], axis=1, keys = [\"Total\", \"Percent\"])\n",
    "missing_data"
   ]
  },
  {
   "cell_type": "code",
   "execution_count": 7,
   "id": "c6bb22e7",
   "metadata": {},
   "outputs": [
    {
     "data": {
      "text/html": [
       "<div>\n",
       "<style scoped>\n",
       "    .dataframe tbody tr th:only-of-type {\n",
       "        vertical-align: middle;\n",
       "    }\n",
       "\n",
       "    .dataframe tbody tr th {\n",
       "        vertical-align: top;\n",
       "    }\n",
       "\n",
       "    .dataframe thead th {\n",
       "        text-align: right;\n",
       "    }\n",
       "</style>\n",
       "<table border=\"1\" class=\"dataframe\">\n",
       "  <thead>\n",
       "    <tr style=\"text-align: right;\">\n",
       "      <th></th>\n",
       "      <th>Date</th>\n",
       "      <th>Model</th>\n",
       "      <th>Count</th>\n",
       "      <th>month</th>\n",
       "      <th>year</th>\n",
       "    </tr>\n",
       "  </thead>\n",
       "  <tbody>\n",
       "    <tr>\n",
       "      <th>0</th>\n",
       "      <td>2016-08-31</td>\n",
       "      <td>M45</td>\n",
       "      <td>5</td>\n",
       "      <td>8</td>\n",
       "      <td>2016</td>\n",
       "    </tr>\n",
       "    <tr>\n",
       "      <th>1</th>\n",
       "      <td>2016-08-31</td>\n",
       "      <td>M121</td>\n",
       "      <td>3</td>\n",
       "      <td>8</td>\n",
       "      <td>2016</td>\n",
       "    </tr>\n",
       "    <tr>\n",
       "      <th>2</th>\n",
       "      <td>2016-08-31</td>\n",
       "      <td>M122</td>\n",
       "      <td>4</td>\n",
       "      <td>8</td>\n",
       "      <td>2016</td>\n",
       "    </tr>\n",
       "    <tr>\n",
       "      <th>3</th>\n",
       "      <td>2016-08-31</td>\n",
       "      <td>M91</td>\n",
       "      <td>10</td>\n",
       "      <td>8</td>\n",
       "      <td>2016</td>\n",
       "    </tr>\n",
       "    <tr>\n",
       "      <th>4</th>\n",
       "      <td>2016-08-31</td>\n",
       "      <td>M66</td>\n",
       "      <td>57</td>\n",
       "      <td>8</td>\n",
       "      <td>2016</td>\n",
       "    </tr>\n",
       "  </tbody>\n",
       "</table>\n",
       "</div>"
      ],
      "text/plain": [
       "        Date Model  Count  month  year\n",
       "0 2016-08-31   M45      5      8  2016\n",
       "1 2016-08-31  M121      3      8  2016\n",
       "2 2016-08-31  M122      4      8  2016\n",
       "3 2016-08-31   M91     10      8  2016\n",
       "4 2016-08-31   M66     57      8  2016"
      ]
     },
     "execution_count": 7,
     "metadata": {},
     "output_type": "execute_result"
    }
   ],
   "source": [
    "#add date, month, and year to the data and observe the data again!\n",
    "data[\"month\"] = data[\"Date\"].dt.month\n",
    "data[\"year\"] = data[\"Date\"].dt.year\n",
    "\n",
    "data.head()"
   ]
  },
  {
   "cell_type": "code",
   "execution_count": 8,
   "id": "53df2fbe",
   "metadata": {},
   "outputs": [
    {
     "data": {
      "image/png": "[encoded data removed]",
      "text/plain": [
       "<Figure size 432x288 with 1 Axes>"
      ]
     },
     "metadata": {
      "needs_background": "light"
     },
     "output_type": "display_data"
    }
   ],
   "source": [
    "#observe the best selling products-models\n",
    "sales_products = data.groupby(\"Model\")[\"Count\"].sum().sort_values(ascending = False)\n",
    "sales_products\n",
    "\n",
    "sales_products[:10].plot(x = \"Model\", y=\"Total Sales for Each Model\", kind = \"bar\")\n",
    "plt.show()"
   ]
  },
  {
   "cell_type": "code",
   "execution_count": 9,
   "id": "6047c170",
   "metadata": {},
   "outputs": [
    {
     "data": {
      "text/plain": [
       "<AxesSubplot:title={'center':' Total Number of Items Sold in Each Year'}, xlabel='year', ylabel='count'>"
      ]
     },
     "execution_count": 9,
     "metadata": {},
     "output_type": "execute_result"
    },
    {
     "data": {
      "image/png": "[encoded data removed]",
      "text/plain": [
       "<Figure size 1080x360 with 1 Axes>"
      ]
     },
     "metadata": {
      "needs_background": "light"
     },
     "output_type": "display_data"
    }
   ],
   "source": [
    "plt.figure(figsize=(15,5))\n",
    "plt.title(' Total Number of Items Sold in Each Year')\n",
    "sns.countplot(x='year', data=data, color='lightblue')"
   ]
  },
  {
   "cell_type": "code",
   "execution_count": 10,
   "id": "a8ec8c4d",
   "metadata": {},
   "outputs": [
    {
     "data": {
      "text/plain": [
       "(Timestamp('2014-01-01 00:00:00'), Timestamp('2016-08-31 00:00:00'))"
      ]
     },
     "execution_count": 10,
     "metadata": {},
     "output_type": "execute_result"
    }
   ],
   "source": [
    "#look at the boundaries of the dates (min-max) and observe that the year 2016 is not completed so there is more product to sell in 2016.\n",
    "min(data[\"Date\"]), max(data[\"Date\"])"
   ]
  },
  {
   "cell_type": "code",
   "execution_count": 11,
   "id": "89fb3b18",
   "metadata": {},
   "outputs": [
    {
     "data": {
      "text/html": [
       "<div>\n",
       "<style scoped>\n",
       "    .dataframe tbody tr th:only-of-type {\n",
       "        vertical-align: middle;\n",
       "    }\n",
       "\n",
       "    .dataframe tbody tr th {\n",
       "        vertical-align: top;\n",
       "    }\n",
       "\n",
       "    .dataframe thead th {\n",
       "        text-align: right;\n",
       "    }\n",
       "</style>\n",
       "<table border=\"1\" class=\"dataframe\">\n",
       "  <thead>\n",
       "    <tr style=\"text-align: right;\">\n",
       "      <th></th>\n",
       "      <th>Date</th>\n",
       "      <th>Model</th>\n",
       "      <th>Count</th>\n",
       "      <th>month</th>\n",
       "      <th>year</th>\n",
       "    </tr>\n",
       "  </thead>\n",
       "  <tbody>\n",
       "    <tr>\n",
       "      <th>39682</th>\n",
       "      <td>2014-12-31</td>\n",
       "      <td>M54</td>\n",
       "      <td>3</td>\n",
       "      <td>12</td>\n",
       "      <td>2014</td>\n",
       "    </tr>\n",
       "    <tr>\n",
       "      <th>39683</th>\n",
       "      <td>2014-12-31</td>\n",
       "      <td>M60</td>\n",
       "      <td>76</td>\n",
       "      <td>12</td>\n",
       "      <td>2014</td>\n",
       "    </tr>\n",
       "    <tr>\n",
       "      <th>39684</th>\n",
       "      <td>2014-12-31</td>\n",
       "      <td>M1</td>\n",
       "      <td>65</td>\n",
       "      <td>12</td>\n",
       "      <td>2014</td>\n",
       "    </tr>\n",
       "    <tr>\n",
       "      <th>39685</th>\n",
       "      <td>2014-12-31</td>\n",
       "      <td>M52</td>\n",
       "      <td>49</td>\n",
       "      <td>12</td>\n",
       "      <td>2014</td>\n",
       "    </tr>\n",
       "    <tr>\n",
       "      <th>39686</th>\n",
       "      <td>2014-12-31</td>\n",
       "      <td>M118</td>\n",
       "      <td>8</td>\n",
       "      <td>12</td>\n",
       "      <td>2014</td>\n",
       "    </tr>\n",
       "    <tr>\n",
       "      <th>...</th>\n",
       "      <td>...</td>\n",
       "      <td>...</td>\n",
       "      <td>...</td>\n",
       "      <td>...</td>\n",
       "      <td>...</td>\n",
       "    </tr>\n",
       "    <tr>\n",
       "      <th>46111</th>\n",
       "      <td>2014-01-01</td>\n",
       "      <td>M74</td>\n",
       "      <td>1</td>\n",
       "      <td>1</td>\n",
       "      <td>2014</td>\n",
       "    </tr>\n",
       "    <tr>\n",
       "      <th>46112</th>\n",
       "      <td>2014-01-01</td>\n",
       "      <td>M59</td>\n",
       "      <td>1</td>\n",
       "      <td>1</td>\n",
       "      <td>2014</td>\n",
       "    </tr>\n",
       "    <tr>\n",
       "      <th>46113</th>\n",
       "      <td>2014-01-01</td>\n",
       "      <td>M60</td>\n",
       "      <td>5</td>\n",
       "      <td>1</td>\n",
       "      <td>2014</td>\n",
       "    </tr>\n",
       "    <tr>\n",
       "      <th>46114</th>\n",
       "      <td>2014-01-01</td>\n",
       "      <td>M54</td>\n",
       "      <td>1</td>\n",
       "      <td>1</td>\n",
       "      <td>2014</td>\n",
       "    </tr>\n",
       "    <tr>\n",
       "      <th>46115</th>\n",
       "      <td>2014-01-01</td>\n",
       "      <td>M58</td>\n",
       "      <td>1</td>\n",
       "      <td>1</td>\n",
       "      <td>2014</td>\n",
       "    </tr>\n",
       "  </tbody>\n",
       "</table>\n",
       "<p>6434 rows × 5 columns</p>\n",
       "</div>"
      ],
      "text/plain": [
       "            Date Model  Count  month  year\n",
       "39682 2014-12-31   M54      3     12  2014\n",
       "39683 2014-12-31   M60     76     12  2014\n",
       "39684 2014-12-31    M1     65     12  2014\n",
       "39685 2014-12-31   M52     49     12  2014\n",
       "39686 2014-12-31  M118      8     12  2014\n",
       "...          ...   ...    ...    ...   ...\n",
       "46111 2014-01-01   M74      1      1  2014\n",
       "46112 2014-01-01   M59      1      1  2014\n",
       "46113 2014-01-01   M60      5      1  2014\n",
       "46114 2014-01-01   M54      1      1  2014\n",
       "46115 2014-01-01   M58      1      1  2014\n",
       "\n",
       "[6434 rows x 5 columns]"
      ]
     },
     "execution_count": 11,
     "metadata": {},
     "output_type": "execute_result"
    }
   ],
   "source": [
    "## determine sales in different years in new data set\n",
    "\n",
    "data_2014 = data[data[\"Date\"].dt.year == 2014]\n",
    "data_2015 = data[data[\"Date\"].dt.year == 2015]\n",
    "data_2016 = data[data[\"Date\"].dt.year == 2016]\n",
    "\n",
    "data_2014"
   ]
  },
  {
   "cell_type": "code",
   "execution_count": 12,
   "id": "5e32a9f8",
   "metadata": {},
   "outputs": [],
   "source": [
    "# evaluate the graphs for monthly sales within each year uniqely and look for patterns"
   ]
  },
  {
   "cell_type": "code",
   "execution_count": 13,
   "id": "885b8c09",
   "metadata": {},
   "outputs": [
    {
     "data": {
      "text/plain": [
       "<AxesSubplot:title={'center':' Sale on each month of 2014 '}, xlabel='month', ylabel='Sale amount'>"
      ]
     },
     "execution_count": 13,
     "metadata": {},
     "output_type": "execute_result"
    },
    {
     "data": {
      "image/png": "[encoded data removed]",
      "text/plain": [
       "<Figure size 720x360 with 1 Axes>"
      ]
     },
     "metadata": {
      "needs_background": "light"
     },
     "output_type": "display_data"
    }
   ],
   "source": [
    "#Sell on each month of 2014\n",
    "plt.figure(figsize=(10,5))\n",
    "plt.title(' Sale on each month of 2014 ')\n",
    "plt.ylabel('Sale amount')\n",
    "data_2014.groupby('month').Count.sum().plot(kind='bar', color='lightblue')"
   ]
  },
  {
   "cell_type": "code",
   "execution_count": 14,
   "id": "659aa33b",
   "metadata": {},
   "outputs": [
    {
     "data": {
      "text/plain": [
       "<AxesSubplot:title={'center':' Sale on each month of 2015 '}, xlabel='month', ylabel='Sale amount'>"
      ]
     },
     "execution_count": 14,
     "metadata": {},
     "output_type": "execute_result"
    },
    {
     "data": {
      "image/png": "[encoded data removed]",
      "text/plain": [
       "<Figure size 720x360 with 1 Axes>"
      ]
     },
     "metadata": {
      "needs_background": "light"
     },
     "output_type": "display_data"
    }
   ],
   "source": [
    "#Sell on each month of 2015\n",
    "plt.figure(figsize=(10,5))\n",
    "plt.title(' Sale on each month of 2015 ')\n",
    "plt.ylabel('Sale amount')\n",
    "data_2015.groupby('month').Count.sum().plot( kind='bar',color='lightblue')"
   ]
  },
  {
   "cell_type": "code",
   "execution_count": 15,
   "id": "3da8a79a",
   "metadata": {},
   "outputs": [
    {
     "data": {
      "text/plain": [
       "<AxesSubplot:title={'center':' Sale on each month of 2016 '}, xlabel='month', ylabel='Sale amount'>"
      ]
     },
     "execution_count": 15,
     "metadata": {},
     "output_type": "execute_result"
    },
    {
     "data": {
      "image/png": "[encoded data removed]",
      "text/plain": [
       "<Figure size 720x360 with 1 Axes>"
      ]
     },
     "metadata": {
      "needs_background": "light"
     },
     "output_type": "display_data"
    }
   ],
   "source": [
    "#Sell on each month of 2016\n",
    "plt.figure(figsize=(10,5))\n",
    "plt.title(' Sale on each month of 2016 ')\n",
    "plt.ylabel('Sale amount')\n",
    "data_2016.groupby('month').Count.sum().plot(kind='bar', color='lightblue')"
   ]
  },
  {
   "cell_type": "code",
   "execution_count": 16,
   "id": "75a53993",
   "metadata": {},
   "outputs": [],
   "source": [
    "# after observing each graph we can conclude that there is a remarkable increase in number of sales in July each year."
   ]
  },
  {
   "cell_type": "code",
   "execution_count": 25,
   "id": "3e58385a",
   "metadata": {},
   "outputs": [],
   "source": [
    "data['Date'] = data['month'].map(str) + '-' + data['year'].map(str)\n",
    "sales = data.groupby([\"Model\", \"year\", \"month\"]).sum()\n",
    "sales\n",
    "#data['Date'] = data['month'].map(str) + '-' + data['year'].map(str)\n",
    "\n",
    "#M = {}\n",
    "\n",
    "unique_models = data[\"Model\"].unique()\n",
    "\n",
    "#for models in unique_models:\n",
    "#    M[models] = data[data[\"Model\"] == models].reset_index(drop=True)\n",
    "    #M"
   ]
  },
  {
   "cell_type": "code",
   "execution_count": 26,
   "id": "c6f3eacd",
   "metadata": {},
   "outputs": [
    {
     "data": {
      "text/html": [
       "<div>\n",
       "<style scoped>\n",
       "    .dataframe tbody tr th:only-of-type {\n",
       "        vertical-align: middle;\n",
       "    }\n",
       "\n",
       "    .dataframe tbody tr th {\n",
       "        vertical-align: top;\n",
       "    }\n",
       "\n",
       "    .dataframe thead th {\n",
       "        text-align: right;\n",
       "    }\n",
       "</style>\n",
       "<table border=\"1\" class=\"dataframe\">\n",
       "  <thead>\n",
       "    <tr style=\"text-align: right;\">\n",
       "      <th></th>\n",
       "      <th>Date</th>\n",
       "      <th>Model</th>\n",
       "      <th>Count</th>\n",
       "      <th>month</th>\n",
       "      <th>year</th>\n",
       "    </tr>\n",
       "  </thead>\n",
       "  <tbody>\n",
       "    <tr>\n",
       "      <th>0</th>\n",
       "      <td>8-2016</td>\n",
       "      <td>M45</td>\n",
       "      <td>5</td>\n",
       "      <td>8</td>\n",
       "      <td>2016</td>\n",
       "    </tr>\n",
       "    <tr>\n",
       "      <th>1</th>\n",
       "      <td>8-2016</td>\n",
       "      <td>M121</td>\n",
       "      <td>3</td>\n",
       "      <td>8</td>\n",
       "      <td>2016</td>\n",
       "    </tr>\n",
       "    <tr>\n",
       "      <th>2</th>\n",
       "      <td>8-2016</td>\n",
       "      <td>M122</td>\n",
       "      <td>4</td>\n",
       "      <td>8</td>\n",
       "      <td>2016</td>\n",
       "    </tr>\n",
       "    <tr>\n",
       "      <th>3</th>\n",
       "      <td>8-2016</td>\n",
       "      <td>M91</td>\n",
       "      <td>10</td>\n",
       "      <td>8</td>\n",
       "      <td>2016</td>\n",
       "    </tr>\n",
       "    <tr>\n",
       "      <th>4</th>\n",
       "      <td>8-2016</td>\n",
       "      <td>M66</td>\n",
       "      <td>57</td>\n",
       "      <td>8</td>\n",
       "      <td>2016</td>\n",
       "    </tr>\n",
       "    <tr>\n",
       "      <th>...</th>\n",
       "      <td>...</td>\n",
       "      <td>...</td>\n",
       "      <td>...</td>\n",
       "      <td>...</td>\n",
       "      <td>...</td>\n",
       "    </tr>\n",
       "    <tr>\n",
       "      <th>46111</th>\n",
       "      <td>1-2014</td>\n",
       "      <td>M74</td>\n",
       "      <td>1</td>\n",
       "      <td>1</td>\n",
       "      <td>2014</td>\n",
       "    </tr>\n",
       "    <tr>\n",
       "      <th>46112</th>\n",
       "      <td>1-2014</td>\n",
       "      <td>M59</td>\n",
       "      <td>1</td>\n",
       "      <td>1</td>\n",
       "      <td>2014</td>\n",
       "    </tr>\n",
       "    <tr>\n",
       "      <th>46113</th>\n",
       "      <td>1-2014</td>\n",
       "      <td>M60</td>\n",
       "      <td>5</td>\n",
       "      <td>1</td>\n",
       "      <td>2014</td>\n",
       "    </tr>\n",
       "    <tr>\n",
       "      <th>46114</th>\n",
       "      <td>1-2014</td>\n",
       "      <td>M54</td>\n",
       "      <td>1</td>\n",
       "      <td>1</td>\n",
       "      <td>2014</td>\n",
       "    </tr>\n",
       "    <tr>\n",
       "      <th>46115</th>\n",
       "      <td>1-2014</td>\n",
       "      <td>M58</td>\n",
       "      <td>1</td>\n",
       "      <td>1</td>\n",
       "      <td>2014</td>\n",
       "    </tr>\n",
       "  </tbody>\n",
       "</table>\n",
       "<p>46116 rows × 5 columns</p>\n",
       "</div>"
      ],
      "text/plain": [
       "         Date Model  Count  month  year\n",
       "0      8-2016   M45      5      8  2016\n",
       "1      8-2016  M121      3      8  2016\n",
       "2      8-2016  M122      4      8  2016\n",
       "3      8-2016   M91     10      8  2016\n",
       "4      8-2016   M66     57      8  2016\n",
       "...       ...   ...    ...    ...   ...\n",
       "46111  1-2014   M74      1      1  2014\n",
       "46112  1-2014   M59      1      1  2014\n",
       "46113  1-2014   M60      5      1  2014\n",
       "46114  1-2014   M54      1      1  2014\n",
       "46115  1-2014   M58      1      1  2014\n",
       "\n",
       "[46116 rows x 5 columns]"
      ]
     },
     "execution_count": 26,
     "metadata": {},
     "output_type": "execute_result"
    }
   ],
   "source": [
    "#M_2 = {}\n",
    "\n",
    "#for model in unique_models:\n",
    " #   for i in 0:len(M[model]):\n",
    "  #          for j in 0:len(M[model]):\n",
    "   #                 if M[model][\"Date\"][i]==M[model][\"Date\"][j]:\n",
    "data                  "
   ]
  },
  {
   "cell_type": "code",
   "execution_count": 27,
   "id": "b736a099",
   "metadata": {},
   "outputs": [
    {
     "data": {
      "text/plain": [
       "894.5218185995337"
      ]
     },
     "execution_count": 27,
     "metadata": {},
     "output_type": "execute_result"
    }
   ],
   "source": [
    "#df =  M[\"M1\"].set_index(\"month\")\n",
    "#data\n",
    "df = sales[\"Count\"][\"M1\"]\n",
    "df\n",
    "np.std(sales[\"Count\"][\"M1\"])"
   ]
  },
  {
   "cell_type": "code",
   "execution_count": 28,
   "id": "032f7666",
   "metadata": {},
   "outputs": [],
   "source": [
    "sales[\"Count\"][\"M1\"].index\n",
    "df2 = sales[\"Count\"][\"M1\"].to_frame().set_index(sales[\"Count\"][\"M1\"].index)\n",
    "df2\n",
    "type(df2)\n",
    "df2 = df2.sort_index()\n"
   ]
  },
  {
   "cell_type": "code",
   "execution_count": 29,
   "id": "cbd09604",
   "metadata": {},
   "outputs": [],
   "source": [
    "std_dev = {}\n",
    "sum_model = {}\n",
    "for model in unique_models:\n",
    "    std_dev[model] = np.std(sales[\"Count\"][model])\n",
    "\n",
    "for model in unique_models:\n",
    "    sum_model[model] = np.sum(sales[\"Count\"][model])\n",
    "    \n",
    "sum_model,std_dev\n",
    "km = pd.DataFrame()\n",
    "\n",
    "km_sum = pd.DataFrame.from_dict(sum_model, orient='index',\n",
    "                       columns=[\"Count\"])\n",
    "km_std_dev = pd.DataFrame.from_dict(std_dev, orient='index',\n",
    "                       columns=[\"Std.Dev\"])"
   ]
  },
  {
   "cell_type": "code",
   "execution_count": 30,
   "id": "6ef5b85c",
   "metadata": {},
   "outputs": [
    {
     "data": {
      "text/html": [
       "<div>\n",
       "<style scoped>\n",
       "    .dataframe tbody tr th:only-of-type {\n",
       "        vertical-align: middle;\n",
       "    }\n",
       "\n",
       "    .dataframe tbody tr th {\n",
       "        vertical-align: top;\n",
       "    }\n",
       "\n",
       "    .dataframe thead th {\n",
       "        text-align: right;\n",
       "    }\n",
       "</style>\n",
       "<table border=\"1\" class=\"dataframe\">\n",
       "  <thead>\n",
       "    <tr style=\"text-align: right;\">\n",
       "      <th></th>\n",
       "      <th>Count</th>\n",
       "      <th>Standard Deviation</th>\n",
       "    </tr>\n",
       "  </thead>\n",
       "  <tbody>\n",
       "    <tr>\n",
       "      <th>M45</th>\n",
       "      <td>4419.1</td>\n",
       "      <td>3512.201565</td>\n",
       "    </tr>\n",
       "    <tr>\n",
       "      <th>M121</th>\n",
       "      <td>981.5</td>\n",
       "      <td>437.630712</td>\n",
       "    </tr>\n",
       "    <tr>\n",
       "      <th>M122</th>\n",
       "      <td>559.1</td>\n",
       "      <td>217.722186</td>\n",
       "    </tr>\n",
       "    <tr>\n",
       "      <th>M91</th>\n",
       "      <td>248.7</td>\n",
       "      <td>438.486816</td>\n",
       "    </tr>\n",
       "    <tr>\n",
       "      <th>M66</th>\n",
       "      <td>2291.5</td>\n",
       "      <td>2559.802619</td>\n",
       "    </tr>\n",
       "    <tr>\n",
       "      <th>...</th>\n",
       "      <td>...</td>\n",
       "      <td>...</td>\n",
       "    </tr>\n",
       "    <tr>\n",
       "      <th>M54</th>\n",
       "      <td>1403.0</td>\n",
       "      <td>642.951552</td>\n",
       "    </tr>\n",
       "    <tr>\n",
       "      <th>M29</th>\n",
       "      <td>2016.6</td>\n",
       "      <td>1332.169632</td>\n",
       "    </tr>\n",
       "    <tr>\n",
       "      <th>M34</th>\n",
       "      <td>2513.5</td>\n",
       "      <td>1502.649904</td>\n",
       "    </tr>\n",
       "    <tr>\n",
       "      <th>M33</th>\n",
       "      <td>1502.5</td>\n",
       "      <td>984.190307</td>\n",
       "    </tr>\n",
       "    <tr>\n",
       "      <th>M106</th>\n",
       "      <td>360.6</td>\n",
       "      <td>138.087910</td>\n",
       "    </tr>\n",
       "  </tbody>\n",
       "</table>\n",
       "<p>124 rows × 2 columns</p>\n",
       "</div>"
      ],
      "text/plain": [
       "       Count  Standard Deviation\n",
       "M45   4419.1         3512.201565\n",
       "M121   981.5          437.630712\n",
       "M122   559.1          217.722186\n",
       "M91    248.7          438.486816\n",
       "M66   2291.5         2559.802619\n",
       "...      ...                 ...\n",
       "M54   1403.0          642.951552\n",
       "M29   2016.6         1332.169632\n",
       "M34   2513.5         1502.649904\n",
       "M33   1502.5          984.190307\n",
       "M106   360.6          138.087910\n",
       "\n",
       "[124 rows x 2 columns]"
      ]
     },
     "execution_count": 30,
     "metadata": {},
     "output_type": "execute_result"
    }
   ],
   "source": [
    "km[\"Count\"] = km_sum[\"Count\"]/10\n",
    "km[\"Standard Deviation\"] = km_std_dev[\"Std.Dev\"]\n",
    "km"
   ]
  },
  {
   "cell_type": "code",
   "execution_count": 31,
   "id": "4d58aff6",
   "metadata": {},
   "outputs": [
    {
     "ename": "AttributeError",
     "evalue": "'numpy.ndarray' object has no attribute 'format'",
     "output_type": "error",
     "traceback": [
      "\u001b[1;31m---------------------------------------------------------------------------\u001b[0m",
      "\u001b[1;31mAttributeError\u001b[0m                            Traceback (most recent call last)",
      "\u001b[1;32m<ipython-input-31-ba1caa30de0f>\u001b[0m in \u001b[0;36m<module>\u001b[1;34m\u001b[0m\n\u001b[1;32m----> 1\u001b[1;33m \u001b[0mkm\u001b[0m\u001b[1;33m.\u001b[0m\u001b[0mvalues\u001b[0m\u001b[1;33m.\u001b[0m\u001b[0mformat\u001b[0m\u001b[1;33m(\u001b[0m\u001b[0mnum\u001b[0m\u001b[1;33m)\u001b[0m\u001b[1;33m\u001b[0m\u001b[1;33m\u001b[0m\u001b[0m\n\u001b[0m",
      "\u001b[1;31mAttributeError\u001b[0m: 'numpy.ndarray' object has no attribute 'format'"
     ]
    }
   ],
   "source": []
  },
  {
   "cell_type": "code",
   "execution_count": 32,
   "id": "5010f44c",
   "metadata": {},
   "outputs": [
    {
     "data": {
      "text/plain": [
       "[16496388873.621725,\n",
       " 4753153038.6661415,\n",
       " 2355893517.8184743,\n",
       " 675236566.8827935,\n",
       " 448410535.80214465,\n",
       " 316138982.85093063,\n",
       " 199266068.51283255,\n",
       " 158265105.82410866,\n",
       " 118446817.65416217,\n",
       " 90384221.28042729]"
      ]
     },
     "execution_count": 32,
     "metadata": {},
     "output_type": "execute_result"
    }
   ],
   "source": [
    "#Clustering using K- means\n",
    "#Segmentation using Age and Spending Score\n",
    "'''Age and spending Score'''\n",
    "#X1 = data[['Age' , 'Spending Score (1-100)']].values\n",
    "inertia = []\n",
    " # KMEANS PARAMATER DEFINITIONS: https://scikit-learn.org/stable/modules/generated/sklearn.cluster.KMeans.html\n",
    "    \n",
    "for n in range(1 , 11):\n",
    "    algorithm = (KMeans(n_clusters = n ,init='k-means++', n_init = 10 ,max_iter=300, \n",
    "                        tol=0.0001,  random_state= 111  , algorithm='elkan') )\n",
    "    algorithm.fit(km)\n",
    "    inertia.append(algorithm.inertia_)\n",
    "inertia"
   ]
  },
  {
   "cell_type": "code",
   "execution_count": 33,
   "id": "96b61509",
   "metadata": {},
   "outputs": [
    {
     "data": {
      "image/png": "[encoded data removed]",
      "text/plain": [
       "<Figure size 1080x432 with 1 Axes>"
      ]
     },
     "metadata": {
      "needs_background": "light"
     },
     "output_type": "display_data"
    }
   ],
   "source": [
    "plt.figure(figsize = (15 ,6))\n",
    "plt.plot(np.arange(1 , 11) , inertia , 'o')\n",
    "plt.plot(np.arange(1 , 11) , inertia , '-' , alpha = 0.5)\n",
    "plt.xlabel('Number of Clusters') , plt.ylabel('Sum of Squarred Error')\n",
    "plt.show()"
   ]
  },
  {
   "cell_type": "code",
   "execution_count": 34,
   "id": "921f3246",
   "metadata": {
    "scrolled": true
   },
   "outputs": [
    {
     "data": {
      "text/plain": [
       "(44    M22\n",
       " 58     M4\n",
       " 79    M20\n",
       " 84    M19\n",
       " Name: data_index, dtype: object,\n",
       " 0       M45\n",
       " 1      M121\n",
       " 2      M122\n",
       " 3       M91\n",
       " 4       M66\n",
       "        ... \n",
       " 119     M54\n",
       " 120     M29\n",
       " 121     M34\n",
       " 122     M33\n",
       " 123    M106\n",
       " Name: data_index, Length: 116, dtype: object,\n",
       " 30    M18\n",
       " 57    M23\n",
       " Name: data_index, dtype: object,\n",
       " 68    M24\n",
       " 78    M25\n",
       " Name: data_index, dtype: object)"
      ]
     },
     "execution_count": 34,
     "metadata": {},
     "output_type": "execute_result"
    }
   ],
   "source": [
    "algorithm = (KMeans(n_clusters = 4 ,init='k-means++', n_init = 10 ,max_iter=300, \n",
    "                        tol=0.0001,  random_state= 111  , algorithm='elkan') )\n",
    "algorithm.fit(km)\n",
    "labels1 = algorithm.labels_\n",
    "centroids1 = algorithm.cluster_centers_\n",
    "\n",
    "labels1, centroids1\n",
    "\n",
    "\n",
    "cluster_map = pd.DataFrame()\n",
    "cluster_map['data_index'] = km.index.values\n",
    "cluster_map['cluster'] = labels1\n",
    "\n",
    "cluster_map[cluster_map.cluster == 1][\"data_index\"]\n",
    "\n",
    "centroids1,labels1, \n",
    "\n",
    "cluster_0 = cluster_map[cluster_map.cluster == 0][\"data_index\"]\n",
    "cluster_1 = cluster_map[cluster_map.cluster == 1][\"data_index\"]\n",
    "cluster_2 = cluster_map[cluster_map.cluster == 2][\"data_index\"]\n",
    "cluster_3 = cluster_map[cluster_map.cluster == 3][\"data_index\"]\n",
    "\n",
    "cluster_0,cluster_1,cluster_2,cluster_3"
   ]
  },
  {
   "cell_type": "code",
   "execution_count": 35,
   "id": "d18ef4e2",
   "metadata": {},
   "outputs": [
    {
     "data": {
      "text/plain": [
       "(0.3, 63296.8, 0.0, 49856.70788035113)"
      ]
     },
     "execution_count": 35,
     "metadata": {},
     "output_type": "execute_result"
    }
   ],
   "source": [
    "h = 100\n",
    "x_min, x_max = km[\"Count\"].min(), km[\"Count\"].max()\n",
    "y_min, y_max = km[\"Standard Deviation\"].min(), km[\"Standard Deviation\"].max()\n",
    "\n",
    "## arrange() generates outputs between min and max within specified intervals\n",
    "## meshgrid() returns two 2-dimensional arrays, representing the X and Y coordinates of all the points. \n",
    "## ravel() specify all of the values of an array in one row (each column includes only one value)\n",
    "## np.c_ concenation of two raveled arrays \n",
    "## use algorithm.predict to estimate the clusters for each value in concenated xx and yy (algorithm is defined under KMeans)\n",
    "## PREDICT FUCNTION : https://www.askpython.com/python/examples/python-predict-function\n",
    "\n",
    "xx, yy = np.meshgrid(np.arange(x_min, x_max, h), np.arange(y_min, y_max, h))\n",
    "Z = algorithm.predict(np.c_[xx.ravel(), yy.ravel()]) \n",
    "x_min,x_max,y_min,y_max"
   ]
  },
  {
   "cell_type": "code",
   "execution_count": 36,
   "id": "84ec2c82",
   "metadata": {
    "scrolled": false
   },
   "outputs": [
    {
     "ename": "TypeError",
     "evalue": "'Text' object is not iterable",
     "output_type": "error",
     "traceback": [
      "\u001b[1;31m---------------------------------------------------------------------------\u001b[0m",
      "\u001b[1;31mTypeError\u001b[0m                                 Traceback (most recent call last)",
      "\u001b[1;32m<ipython-input-36-89e34ad4e105>\u001b[0m in \u001b[0;36m<module>\u001b[1;34m\u001b[0m\n\u001b[0;32m      8\u001b[0m             s = 200 )\n\u001b[0;32m      9\u001b[0m \u001b[0mplt\u001b[0m\u001b[1;33m.\u001b[0m\u001b[0mscatter\u001b[0m\u001b[1;33m(\u001b[0m\u001b[0mx\u001b[0m \u001b[1;33m=\u001b[0m \u001b[0mcentroids1\u001b[0m\u001b[1;33m[\u001b[0m\u001b[1;33m:\u001b[0m \u001b[1;33m,\u001b[0m \u001b[1;36m0\u001b[0m\u001b[1;33m]\u001b[0m \u001b[1;33m,\u001b[0m \u001b[0my\u001b[0m \u001b[1;33m=\u001b[0m  \u001b[0mcentroids1\u001b[0m\u001b[1;33m[\u001b[0m\u001b[1;33m:\u001b[0m \u001b[1;33m,\u001b[0m \u001b[1;36m1\u001b[0m\u001b[1;33m]\u001b[0m \u001b[1;33m,\u001b[0m \u001b[0ms\u001b[0m \u001b[1;33m=\u001b[0m \u001b[1;36m300\u001b[0m \u001b[1;33m,\u001b[0m \u001b[0mc\u001b[0m \u001b[1;33m=\u001b[0m \u001b[1;34m'red'\u001b[0m \u001b[1;33m,\u001b[0m \u001b[0malpha\u001b[0m \u001b[1;33m=\u001b[0m \u001b[1;36m0.5\u001b[0m\u001b[1;33m)\u001b[0m\u001b[1;33m\u001b[0m\u001b[1;33m\u001b[0m\u001b[0m\n\u001b[1;32m---> 10\u001b[1;33m \u001b[0mplt\u001b[0m\u001b[1;33m.\u001b[0m\u001b[0mylabel\u001b[0m\u001b[1;33m(\u001b[0m\u001b[1;34m\"Standard Deviation\"\u001b[0m \u001b[1;33m,\u001b[0m \u001b[0mplt\u001b[0m\u001b[1;33m.\u001b[0m\u001b[0mxlabel\u001b[0m\u001b[1;33m(\u001b[0m\u001b[1;34m\"Count\"\u001b[0m\u001b[1;33m)\u001b[0m\u001b[1;33m)\u001b[0m\u001b[1;33m\u001b[0m\u001b[1;33m\u001b[0m\u001b[0m\n\u001b[0m\u001b[0;32m     11\u001b[0m \u001b[1;33m\u001b[0m\u001b[0m\n\u001b[0;32m     12\u001b[0m \u001b[0mplt\u001b[0m\u001b[1;33m.\u001b[0m\u001b[0mshow\u001b[0m\u001b[1;33m(\u001b[0m\u001b[1;33m)\u001b[0m\u001b[1;33m\u001b[0m\u001b[1;33m\u001b[0m\u001b[0m\n",
      "\u001b[1;32m~\\anaconda3\\lib\\site-packages\\matplotlib\\pyplot.py\u001b[0m in \u001b[0;36mylabel\u001b[1;34m(ylabel, fontdict, labelpad, loc, **kwargs)\u001b[0m\n\u001b[0;32m   3121\u001b[0m \u001b[1;33m@\u001b[0m\u001b[0m_copy_docstring_and_deprecators\u001b[0m\u001b[1;33m(\u001b[0m\u001b[0mAxes\u001b[0m\u001b[1;33m.\u001b[0m\u001b[0mset_ylabel\u001b[0m\u001b[1;33m)\u001b[0m\u001b[1;33m\u001b[0m\u001b[1;33m\u001b[0m\u001b[0m\n\u001b[0;32m   3122\u001b[0m \u001b[1;32mdef\u001b[0m \u001b[0mylabel\u001b[0m\u001b[1;33m(\u001b[0m\u001b[0mylabel\u001b[0m\u001b[1;33m,\u001b[0m \u001b[0mfontdict\u001b[0m\u001b[1;33m=\u001b[0m\u001b[1;32mNone\u001b[0m\u001b[1;33m,\u001b[0m \u001b[0mlabelpad\u001b[0m\u001b[1;33m=\u001b[0m\u001b[1;32mNone\u001b[0m\u001b[1;33m,\u001b[0m \u001b[1;33m*\u001b[0m\u001b[1;33m,\u001b[0m \u001b[0mloc\u001b[0m\u001b[1;33m=\u001b[0m\u001b[1;32mNone\u001b[0m\u001b[1;33m,\u001b[0m \u001b[1;33m**\u001b[0m\u001b[0mkwargs\u001b[0m\u001b[1;33m)\u001b[0m\u001b[1;33m:\u001b[0m\u001b[1;33m\u001b[0m\u001b[1;33m\u001b[0m\u001b[0m\n\u001b[1;32m-> 3123\u001b[1;33m     return gca().set_ylabel(\n\u001b[0m\u001b[0;32m   3124\u001b[0m         \u001b[0mylabel\u001b[0m\u001b[1;33m,\u001b[0m \u001b[0mfontdict\u001b[0m\u001b[1;33m=\u001b[0m\u001b[0mfontdict\u001b[0m\u001b[1;33m,\u001b[0m \u001b[0mlabelpad\u001b[0m\u001b[1;33m=\u001b[0m\u001b[0mlabelpad\u001b[0m\u001b[1;33m,\u001b[0m \u001b[0mloc\u001b[0m\u001b[1;33m=\u001b[0m\u001b[0mloc\u001b[0m\u001b[1;33m,\u001b[0m\u001b[1;33m\u001b[0m\u001b[1;33m\u001b[0m\u001b[0m\n\u001b[0;32m   3125\u001b[0m         **kwargs)\n",
      "\u001b[1;32m~\\anaconda3\\lib\\site-packages\\matplotlib\\axes\\_axes.py\u001b[0m in \u001b[0;36mset_ylabel\u001b[1;34m(self, ylabel, fontdict, labelpad, loc, **kwargs)\u001b[0m\n\u001b[0;32m    298\u001b[0m         \u001b[1;32melif\u001b[0m \u001b[0mloc\u001b[0m \u001b[1;33m==\u001b[0m \u001b[1;34m'top'\u001b[0m\u001b[1;33m:\u001b[0m\u001b[1;33m\u001b[0m\u001b[1;33m\u001b[0m\u001b[0m\n\u001b[0;32m    299\u001b[0m             \u001b[0mkwargs\u001b[0m\u001b[1;33m.\u001b[0m\u001b[0mupdate\u001b[0m\u001b[1;33m(\u001b[0m\u001b[0my\u001b[0m\u001b[1;33m=\u001b[0m\u001b[1;36m1\u001b[0m\u001b[1;33m,\u001b[0m \u001b[0mhorizontalalignment\u001b[0m\u001b[1;33m=\u001b[0m\u001b[1;34m'right'\u001b[0m\u001b[1;33m)\u001b[0m\u001b[1;33m\u001b[0m\u001b[1;33m\u001b[0m\u001b[0m\n\u001b[1;32m--> 300\u001b[1;33m         \u001b[1;32mreturn\u001b[0m \u001b[0mself\u001b[0m\u001b[1;33m.\u001b[0m\u001b[0myaxis\u001b[0m\u001b[1;33m.\u001b[0m\u001b[0mset_label_text\u001b[0m\u001b[1;33m(\u001b[0m\u001b[0mylabel\u001b[0m\u001b[1;33m,\u001b[0m \u001b[0mfontdict\u001b[0m\u001b[1;33m,\u001b[0m \u001b[1;33m**\u001b[0m\u001b[0mkwargs\u001b[0m\u001b[1;33m)\u001b[0m\u001b[1;33m\u001b[0m\u001b[1;33m\u001b[0m\u001b[0m\n\u001b[0m\u001b[0;32m    301\u001b[0m \u001b[1;33m\u001b[0m\u001b[0m\n\u001b[0;32m    302\u001b[0m     \u001b[1;32mdef\u001b[0m \u001b[0mget_legend_handles_labels\u001b[0m\u001b[1;33m(\u001b[0m\u001b[0mself\u001b[0m\u001b[1;33m,\u001b[0m \u001b[0mlegend_handler_map\u001b[0m\u001b[1;33m=\u001b[0m\u001b[1;32mNone\u001b[0m\u001b[1;33m)\u001b[0m\u001b[1;33m:\u001b[0m\u001b[1;33m\u001b[0m\u001b[1;33m\u001b[0m\u001b[0m\n",
      "\u001b[1;32m~\\anaconda3\\lib\\site-packages\\matplotlib\\axis.py\u001b[0m in \u001b[0;36mset_label_text\u001b[1;34m(self, label, fontdict, **kwargs)\u001b[0m\n\u001b[0;32m   1563\u001b[0m         \u001b[0mself\u001b[0m\u001b[1;33m.\u001b[0m\u001b[0mlabel\u001b[0m\u001b[1;33m.\u001b[0m\u001b[0mset_text\u001b[0m\u001b[1;33m(\u001b[0m\u001b[0mlabel\u001b[0m\u001b[1;33m)\u001b[0m\u001b[1;33m\u001b[0m\u001b[1;33m\u001b[0m\u001b[0m\n\u001b[0;32m   1564\u001b[0m         \u001b[1;32mif\u001b[0m \u001b[0mfontdict\u001b[0m \u001b[1;32mis\u001b[0m \u001b[1;32mnot\u001b[0m \u001b[1;32mNone\u001b[0m\u001b[1;33m:\u001b[0m\u001b[1;33m\u001b[0m\u001b[1;33m\u001b[0m\u001b[0m\n\u001b[1;32m-> 1565\u001b[1;33m             \u001b[0mself\u001b[0m\u001b[1;33m.\u001b[0m\u001b[0mlabel\u001b[0m\u001b[1;33m.\u001b[0m\u001b[0mupdate\u001b[0m\u001b[1;33m(\u001b[0m\u001b[0mfontdict\u001b[0m\u001b[1;33m)\u001b[0m\u001b[1;33m\u001b[0m\u001b[1;33m\u001b[0m\u001b[0m\n\u001b[0m\u001b[0;32m   1566\u001b[0m         \u001b[0mself\u001b[0m\u001b[1;33m.\u001b[0m\u001b[0mlabel\u001b[0m\u001b[1;33m.\u001b[0m\u001b[0mupdate\u001b[0m\u001b[1;33m(\u001b[0m\u001b[0mkwargs\u001b[0m\u001b[1;33m)\u001b[0m\u001b[1;33m\u001b[0m\u001b[1;33m\u001b[0m\u001b[0m\n\u001b[0;32m   1567\u001b[0m         \u001b[0mself\u001b[0m\u001b[1;33m.\u001b[0m\u001b[0mstale\u001b[0m \u001b[1;33m=\u001b[0m \u001b[1;32mTrue\u001b[0m\u001b[1;33m\u001b[0m\u001b[1;33m\u001b[0m\u001b[0m\n",
      "\u001b[1;32m~\\anaconda3\\lib\\site-packages\\matplotlib\\text.py\u001b[0m in \u001b[0;36mupdate\u001b[1;34m(self, kwargs)\u001b[0m\n\u001b[0;32m    169\u001b[0m         \u001b[1;31m# docstring inherited\u001b[0m\u001b[1;33m\u001b[0m\u001b[1;33m\u001b[0m\u001b[1;33m\u001b[0m\u001b[0m\n\u001b[0;32m    170\u001b[0m         \u001b[1;31m# make a copy so we do not mutate user input!\u001b[0m\u001b[1;33m\u001b[0m\u001b[1;33m\u001b[0m\u001b[1;33m\u001b[0m\u001b[0m\n\u001b[1;32m--> 171\u001b[1;33m         \u001b[0mkwargs\u001b[0m \u001b[1;33m=\u001b[0m \u001b[0mdict\u001b[0m\u001b[1;33m(\u001b[0m\u001b[0mkwargs\u001b[0m\u001b[1;33m)\u001b[0m\u001b[1;33m\u001b[0m\u001b[1;33m\u001b[0m\u001b[0m\n\u001b[0m\u001b[0;32m    172\u001b[0m         \u001b[0msentinel\u001b[0m \u001b[1;33m=\u001b[0m \u001b[0mobject\u001b[0m\u001b[1;33m(\u001b[0m\u001b[1;33m)\u001b[0m  \u001b[1;31m# bbox can be None, so use another sentinel.\u001b[0m\u001b[1;33m\u001b[0m\u001b[1;33m\u001b[0m\u001b[0m\n\u001b[0;32m    173\u001b[0m         \u001b[1;31m# Update fontproperties first, as it has lowest priority.\u001b[0m\u001b[1;33m\u001b[0m\u001b[1;33m\u001b[0m\u001b[1;33m\u001b[0m\u001b[0m\n",
      "\u001b[1;31mTypeError\u001b[0m: 'Text' object is not iterable"
     ]
    },
    {
     "data": {
      "image/png": "[encoded data removed]",
      "text/plain": [
       "<Figure size 1296x720 with 1 Axes>"
      ]
     },
     "metadata": {
      "needs_background": "light"
     },
     "output_type": "display_data"
    }
   ],
   "source": [
    "plt.figure(figsize = (18 , 10) )\n",
    "plt.clf() # used to clear the current figure.\n",
    "Z = Z.reshape(xx.shape) ##https://www.geeksforgeeks.org/reshape-numpy-array/\n",
    "plt.imshow(Z , interpolation='nearest', \n",
    "           extent=(xx.min(), xx.max(), yy.min(), yy.max()),\n",
    "           cmap = plt.cm.Pastel2, aspect = 'auto', origin='lower')\n",
    "plt.scatter( x = \"Count\" , y = \"Standard Deviation\" , data = km , c = labels1 , \n",
    "            s = 200 )\n",
    "plt.scatter(x = centroids1[: , 0] , y =  centroids1[: , 1] , s = 300 , c = 'red' , alpha = 0.5)\n",
    "plt.ylabel(\"Standard Deviation\" , plt.xlabel(\"Count\"))\n",
    "\n",
    "plt.show()\n"
   ]
  },
  {
   "cell_type": "code",
   "execution_count": 88,
   "id": "a18a10cf",
   "metadata": {},
   "outputs": [
    {
     "data": {
      "text/plain": [
       "(17    880.0\n",
       " dtype: float64,\n",
       "     Count\n",
       " 17    762,\n",
       " 118.00000000000023)"
      ]
     },
     "execution_count": 88,
     "metadata": {},
     "output_type": "execute_result"
    }
   ],
   "source": [
    "m5= pd.DataFrame(sales[\"Count\"][\"M5\"])\n",
    "m5 = a.reset_index(drop=True)\n",
    "m5_train = m5[:17]\n",
    "m5_test =m5[17:]\n",
    "model = ARIMA(m5_train, order=(0,2,0))\n",
    "model_fit = model.fit()\n",
    "model_fit.summary()\n",
    "output_m5 = model_fit.forecast()\n",
    "rmse_m5 = sqrt(mean_squared_error(m5_test, output_m5))\n",
    "output_m5, m5_test, rmse_m5,"
   ]
  },
  {
   "cell_type": "code",
   "execution_count": 158,
   "id": "67a820eb",
   "metadata": {},
   "outputs": [
    {
     "data": {
      "text/plain": [
       "(17    108.0\n",
       " dtype: float64,\n",
       "     Count\n",
       " 17    118,\n",
       " 10.0,\n",
       " 8.47457627118644)"
      ]
     },
     "execution_count": 158,
     "metadata": {},
     "output_type": "execute_result"
    }
   ],
   "source": [
    "m45= pd.DataFrame(sales[\"Count\"][\"M45\"])\n",
    "m45 = m45.reset_index(drop=True)\n",
    "m45, len(m45)\n",
    "m45_train = m45[:17]\n",
    "m45_test =m45[17:]\n",
    "model = ARIMA(m45_train, order=(0,2,0))\n",
    "model_fit = model.fit()\n",
    "model_fit.summary()\n",
    "output_m45 = model_fit.forecast()\n",
    "rmse_m45 = sqrt(mean_squared_error(m45_test, output_m45))\n",
    "mape_m45 = mean_absolute_percentage_error(m45_test, output_m45)*100\n",
    "output_m45, m45_test, rmse_m45, mape_m45"
   ]
  },
  {
   "cell_type": "code",
   "execution_count": 159,
   "id": "5cdafa58",
   "metadata": {},
   "outputs": [
    {
     "data": {
      "text/plain": [
       "(10    15808.3\n",
       " dtype: float64,\n",
       "     Count\n",
       " 10  15328,\n",
       " 480.29999999999745,\n",
       " 3.1334812108559333)"
      ]
     },
     "execution_count": 159,
     "metadata": {},
     "output_type": "execute_result"
    }
   ],
   "source": []
  },
  {
   "cell_type": "code",
   "execution_count": 171,
   "id": "9c0e1345",
   "metadata": {},
   "outputs": [
    {
     "data": {
      "text/plain": [
       "(17    4929.887143\n",
       " dtype: float64,\n",
       "     Count\n",
       " 17   3856,\n",
       " 1073.887143298005,\n",
       " 27.849770313744944)"
      ]
     },
     "execution_count": 171,
     "metadata": {},
     "output_type": "execute_result"
    }
   ],
   "source": [
    "m6= pd.DataFrame(sales[\"Count\"][\"M6\"])\n",
    "m6 = m6.reset_index(drop=True)\n",
    "m6_train = m6[:17]\n",
    "m6_test =m6[17:]\n",
    "model = ARIMA(m6_train, order=(0,0,0))\n",
    "model_fit = model.fit()\n",
    "model_fit.summary()\n",
    "output_m6 = model_fit.forecast()\n",
    "rmse_m6 = sqrt(mean_squared_error(m6_test, output_m6))\n",
    "mape_m6 = mean_absolute_percentage_error(m6_test, output_m6)*100\n",
    "output_m6, m6_test, rmse_m6, mape_m6"
   ]
  },
  {
   "cell_type": "code",
   "execution_count": 188,
   "id": "0b63ebe2",
   "metadata": {},
   "outputs": [
    {
     "data": {
      "text/plain": [
       "(16    898.2972\n",
       " dtype: float64,\n",
       "     Count\n",
       " 16    814,\n",
       " 84.2972004253121,\n",
       " 10.355921428171019)"
      ]
     },
     "execution_count": 188,
     "metadata": {},
     "output_type": "execute_result"
    }
   ],
   "source": [
    "m21= pd.DataFrame(sales[\"Count\"][\"M21\"])\n",
    "m21 = m21.reset_index(drop=True)\n",
    "m21_train = m21[:16]\n",
    "m21_test =m21[16:]\n",
    "model = ARIMA(m21_train, order=(3,2,0))\n",
    "model_fit = model.fit()\n",
    "model_fit.summary()\n",
    "output_m21 = model_fit.forecast()\n",
    "rmse_m21 = sqrt(mean_squared_error(m21_test, output_m21))\n",
    "mape_m21 = mean_absolute_percentage_error(m21_test, output_m21)*100\n",
    "output_m21, m21_test, rmse_m21, mape_m21"
   ]
  },
  {
   "cell_type": "code",
   "execution_count": 189,
   "id": "32f2ce9f",
   "metadata": {},
   "outputs": [
    {
     "data": {
      "text/plain": [
       "(44    M22\n",
       " 58     M4\n",
       " 79    M20\n",
       " 84    M19\n",
       " Name: data_index, dtype: object,\n",
       " 30    M18\n",
       " 57    M23\n",
       " Name: data_index, dtype: object,\n",
       " 68    M24\n",
       " 78    M25\n",
       " Name: data_index, dtype: object)"
      ]
     },
     "execution_count": 189,
     "metadata": {},
     "output_type": "execute_result"
    }
   ],
   "source": [
    "cluster_0,cluster_2,cluster_3"
   ]
  },
  {
   "cell_type": "code",
   "execution_count": 190,
   "id": "41bea282",
   "metadata": {},
   "outputs": [
    {
     "data": {
      "text/plain": [
       "(10    15808.3\n",
       " dtype: float64,\n",
       "     Count\n",
       " 10  15328,\n",
       " 480.29999999999745,\n",
       " 3.1334812108559333)"
      ]
     },
     "execution_count": 190,
     "metadata": {},
     "output_type": "execute_result"
    }
   ],
   "source": [
    "m4= pd.DataFrame(sales[\"Count\"][\"M4\"])\n",
    "m4 = m4.reset_index(drop=True)\n",
    "m4, len(m4)\n",
    "m4_train = m4[:10]\n",
    "m4_test =m4[10:]\n",
    "model = ARIMA(m4_train, order=(0,0,0))\n",
    "model_fit = model.fit()\n",
    "model_fit.summary()\n",
    "output_m4 = model_fit.forecast()\n",
    "rmse_m4 = sqrt(mean_squared_error(m4_test, output_m4))\n",
    "mape_m4 = mean_absolute_percentage_error(m4_test, output_m4)*100\n",
    "output_m4, m4_test, rmse_m4, mape_m4"
   ]
  },
  {
   "cell_type": "code",
   "execution_count": 217,
   "id": "caf9b747",
   "metadata": {},
   "outputs": [
    {
     "data": {
      "text/plain": [
       "(14    17749.752704\n",
       " dtype: float64,\n",
       "     Count\n",
       " 14  14232,\n",
       " 3517.752704271945,\n",
       " 24.71720562304627)"
      ]
     },
     "execution_count": 217,
     "metadata": {},
     "output_type": "execute_result"
    }
   ],
   "source": [
    "m22= pd.DataFrame(sales[\"Count\"][\"M22\"])\n",
    "m22 = m22.reset_index(drop=True)\n",
    "m22_train = m22[:14]\n",
    "m22_test =m22[14:]\n",
    "model = ARIMA(m22_train, order=(0,0,1))\n",
    "model_fit = model.fit()\n",
    "model_fit.summary()\n",
    "output_m22 = model_fit.forecast()\n",
    "rmse_m22 = sqrt(mean_squared_error(m22_test, output_m22))\n",
    "mape_m22 = mean_absolute_percentage_error(m22_test, output_m22)*100\n",
    "output_m22, m22_test, rmse_m22, mape_m22"
   ]
  },
  {
   "cell_type": "code",
   "execution_count": 231,
   "id": "59fd7543",
   "metadata": {},
   "outputs": [
    {
     "data": {
      "text/plain": [
       "(16    898.2972\n",
       " dtype: float64,\n",
       "     Count\n",
       " 16    814,\n",
       " 84.2972004253121,\n",
       " 10.355921428171019)"
      ]
     },
     "execution_count": 231,
     "metadata": {},
     "output_type": "execute_result"
    }
   ],
   "source": [
    "m18= pd.DataFrame(sales[\"Count\"][\"M18\"])\n",
    "m18 = m18.reset_index(drop=True)\n",
    "m18_train = m21[:16]\n",
    "m18_test =m21[16:]\n",
    "model = ARIMA(m18_train, order=(3,2,0))\n",
    "model_fit = model.fit()\n",
    "model_fit.summary()\n",
    "output_m18 = model_fit.forecast()\n",
    "rmse_m18 = sqrt(mean_squared_error(m18_test, output_m18))\n",
    "mape_m18 = mean_absolute_percentage_error(m18_test, output_m18)*100\n",
    "output_m18, m18_test, rmse_m18, mape_m18"
   ]
  },
  {
   "cell_type": "code",
   "execution_count": 245,
   "id": "ab03ff74",
   "metadata": {},
   "outputs": [
    {
     "data": {
      "text/plain": [
       "(2    60859.5\n",
       " dtype: float64,\n",
       "    Count\n",
       " 2  51987,\n",
       " 8872.499999999985,\n",
       " 17.066766691672893)"
      ]
     },
     "execution_count": 245,
     "metadata": {},
     "output_type": "execute_result"
    }
   ],
   "source": [
    "m23= pd.DataFrame(sales[\"Count\"][\"M23\"])\n",
    "m23 = m23.reset_index(drop=True)\n",
    "m23_train = m23[:2]\n",
    "m23_test =m23[2:]\n",
    "model = ARIMA(m23_train, order=(0,0,0))\n",
    "model_fit = model.fit()\n",
    "model_fit.summary()\n",
    "output_m23 = model_fit.forecast()\n",
    "rmse_m23 = sqrt(mean_squared_error(m23_test, output_m23))\n",
    "mape_m23 = mean_absolute_percentage_error(m23_test, output_m23)*100\n",
    "output_m23, m23_test, rmse_m23, mape_m23"
   ]
  },
  {
   "cell_type": "code",
   "execution_count": 262,
   "id": "7803892d",
   "metadata": {},
   "outputs": [
    {
     "data": {
      "text/plain": [
       "(17    31295.57445\n",
       " dtype: float64,\n",
       "     Count\n",
       " 17  23254,\n",
       " 8041.574450429693,\n",
       " 34.581467491312004)"
      ]
     },
     "execution_count": 262,
     "metadata": {},
     "output_type": "execute_result"
    }
   ],
   "source": [
    "m24= pd.DataFrame(sales[\"Count\"][\"M24\"])\n",
    "m24 = m24.reset_index(drop=True)\n",
    "m24_train = m24[:17]\n",
    "m24_test =m24[17:]\n",
    "model = ARIMA(m24_train, order=(1,2,0))\n",
    "model_fit = model.fit()\n",
    "model_fit.summary()\n",
    "output_m24 = model_fit.forecast()\n",
    "rmse_m24 = sqrt(mean_squared_error(m24_test, output_m24))\n",
    "mape_m24 = mean_absolute_percentage_error(m24_test, output_m24)*100\n",
    "output_m24, m24_test, rmse_m24, mape_m24"
   ]
  },
  {
   "cell_type": "code",
   "execution_count": 280,
   "id": "6eb784f7",
   "metadata": {},
   "outputs": [
    {
     "data": {
      "text/plain": [
       "(24    28403.916462\n",
       " dtype: float64,\n",
       "     Count\n",
       " 24  26910,\n",
       " 1493.9164615922346,\n",
       " 5.5515290285850405)"
      ]
     },
     "execution_count": 280,
     "metadata": {},
     "output_type": "execute_result"
    }
   ],
   "source": [
    "m25= pd.DataFrame(sales[\"Count\"][\"M25\"])\n",
    "m25 = m25.reset_index(drop=True)\n",
    "m25_train = m25[:24]\n",
    "m25_test =m25[24:]\n",
    "model = ARIMA(m25_train, order=(3,0,0))\n",
    "model_fit = model.fit()\n",
    "model_fit.summary()\n",
    "output_m25 = model_fit.forecast()\n",
    "rmse_m25 = sqrt(mean_squared_error(m25_test, output_m25))\n",
    "mape_m25 = mean_absolute_percentage_error(m25_test, output_m25)*100\n",
    "output_m25, m25_test, rmse_m25, mape_m25"
   ]
  },
  {
   "cell_type": "code",
   "execution_count": 265,
   "id": "ea128f24",
   "metadata": {},
   "outputs": [
    {
     "data": {
      "text/plain": [
       "25"
      ]
     },
     "execution_count": 265,
     "metadata": {},
     "output_type": "execute_result"
    }
   ],
   "source": [
    "len(m25)"
   ]
  }
 ],
 "metadata": {
  "kernelspec": {
   "display_name": "Python 3",
   "language": "python",
   "name": "python3"
  },
  "language_info": {
   "codemirror_mode": {
    "name": "ipython",
    "version": 3
   },
   "file_extension": ".py",
   "mimetype": "text/x-python",
   "name": "python",
   "nbconvert_exporter": "python",
   "pygments_lexer": "ipython3",
   "version": "3.8.8"
  }
 },
 "nbformat": 4,
 "nbformat_minor": 5
}
